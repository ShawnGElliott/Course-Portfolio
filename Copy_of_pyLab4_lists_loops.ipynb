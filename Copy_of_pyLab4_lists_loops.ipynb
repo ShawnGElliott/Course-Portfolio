{
  "cells": [
    {
      "cell_type": "markdown",
      "metadata": {
        "id": "OXQNLKeLvWsZ"
      },
      "source": [
        "# Lists & Loops\n",
        "\n"
      ]
    },
    {
      "cell_type": "code",
      "source": [
        "from google.colab import drive\n",
        "drive.mount('/content/drive')"
      ],
      "metadata": {
        "colab": {
          "base_uri": "https://localhost:8080/"
        },
        "id": "sQ7GIqlmxOCT",
        "outputId": "2d2a23c3-cd29-4edb-cd1a-7511bcb5348c"
      },
      "execution_count": null,
      "outputs": [
        {
          "output_type": "stream",
          "name": "stdout",
          "text": [
            "Mounted at /content/drive\n"
          ]
        }
      ]
    },
    {
      "cell_type": "markdown",
      "metadata": {
        "id": "JXYnchOavWsa"
      },
      "source": [
        "*Note: You can explore the [associated workbook](https://mybinder.org/v2/gh/melaniewalsh/Intro-Cultural-Analytics/master?urlpath=lab/tree/book/02-Python/Workbooks/09.5-Lists-Loops-Part1-WORKBOOK.ipynb) for this chapter in the cloud.*"
      ]
    },
    {
      "cell_type": "markdown",
      "metadata": {
        "id": "znHau-C1vWsa"
      },
      "source": [
        "In the next few lessons, we're going to learn about a Python data collection type called a *list* and a way of working with lists called a *for loop*, and we're going to draw on [The Bellevue Almshouse Dataset](https://www.nyuirish.net/almshouse/the-almshouse-records/), created by historian and DH scholar Anelise Shrout. This dataset includes information about Irish-born immigrants who were admitted to New York City's Bellevue Almshouse in the 1840s."
      ]
    },
    {
      "cell_type": "markdown",
      "metadata": {
        "id": "FMnIkJv-vWsa"
      },
      "source": [
        "**Preview The Bellevue Almshouse Dataset**\n",
        "\n"
      ]
    },
    {
      "cell_type": "code",
      "execution_count": null,
      "metadata": {
        "scrolled": true,
        "tags": [
          "remove-input",
          "output_scroll"
        ],
        "id": "Xo35FKOSvWsb",
        "outputId": "45661277-5cd0-4461-fea0-bae1ddbff084",
        "colab": {
          "base_uri": "https://localhost:8080/",
          "height": 444
        }
      },
      "outputs": [
        {
          "output_type": "execute_result",
          "data": {
            "text/plain": [
              "         date_in first_name  last_name   age          disease      profession  \\\n",
              "0     1847-04-17       Mary  Gallagher  28.0  recent emigrant         married   \n",
              "1     1847-04-08       John  Sanin (?)  19.0  recent emigrant         laborer   \n",
              "2     1847-04-17    Anthony      Clark  60.0  recent emigrant         laborer   \n",
              "3     1847-04-08   Lawrence     Feeney  32.0  recent emigrant         laborer   \n",
              "4     1847-04-13      Henry      Joyce  21.0  recent emigrant             NaN   \n",
              "...          ...        ...        ...   ...              ...             ...   \n",
              "9579  1847-06-17       Mary      Smith  47.0              NaN             NaN   \n",
              "9580  1847-06-22    Francis      Riley  29.0             lame  superintendent   \n",
              "9581  1847-07-02     Martin       Dunn   4.0              NaN             NaN   \n",
              "9582  1847-07-08  Elizabeth       Post  32.0              NaN             NaN   \n",
              "9583  1847-04-28    Bridget       Ryan  28.0      destitution        spinster   \n",
              "\n",
              "     gender                    children  \n",
              "0         w         Child Alana 10 days  \n",
              "1         m              Catherine 2 mo  \n",
              "2         m  Charles Riley afed 10 days  \n",
              "3         m                       Child  \n",
              "4         m                  Child 1 mo  \n",
              "...     ...                         ...  \n",
              "9579      w                         NaN  \n",
              "9580      m                         NaN  \n",
              "9581      m                         NaN  \n",
              "9582      w                         NaN  \n",
              "9583      w                         NaN  \n",
              "\n",
              "[9584 rows x 8 columns]"
            ],
            "text/html": [
              "\n",
              "  <div id=\"df-a22de31b-8ab3-4249-b17e-499d4e5e5e9c\" class=\"colab-df-container\">\n",
              "    <div>\n",
              "<style scoped>\n",
              "    .dataframe tbody tr th:only-of-type {\n",
              "        vertical-align: middle;\n",
              "    }\n",
              "\n",
              "    .dataframe tbody tr th {\n",
              "        vertical-align: top;\n",
              "    }\n",
              "\n",
              "    .dataframe thead th {\n",
              "        text-align: right;\n",
              "    }\n",
              "</style>\n",
              "<table border=\"1\" class=\"dataframe\">\n",
              "  <thead>\n",
              "    <tr style=\"text-align: right;\">\n",
              "      <th></th>\n",
              "      <th>date_in</th>\n",
              "      <th>first_name</th>\n",
              "      <th>last_name</th>\n",
              "      <th>age</th>\n",
              "      <th>disease</th>\n",
              "      <th>profession</th>\n",
              "      <th>gender</th>\n",
              "      <th>children</th>\n",
              "    </tr>\n",
              "  </thead>\n",
              "  <tbody>\n",
              "    <tr>\n",
              "      <th>0</th>\n",
              "      <td>1847-04-17</td>\n",
              "      <td>Mary</td>\n",
              "      <td>Gallagher</td>\n",
              "      <td>28.0</td>\n",
              "      <td>recent emigrant</td>\n",
              "      <td>married</td>\n",
              "      <td>w</td>\n",
              "      <td>Child Alana 10 days</td>\n",
              "    </tr>\n",
              "    <tr>\n",
              "      <th>1</th>\n",
              "      <td>1847-04-08</td>\n",
              "      <td>John</td>\n",
              "      <td>Sanin (?)</td>\n",
              "      <td>19.0</td>\n",
              "      <td>recent emigrant</td>\n",
              "      <td>laborer</td>\n",
              "      <td>m</td>\n",
              "      <td>Catherine 2 mo</td>\n",
              "    </tr>\n",
              "    <tr>\n",
              "      <th>2</th>\n",
              "      <td>1847-04-17</td>\n",
              "      <td>Anthony</td>\n",
              "      <td>Clark</td>\n",
              "      <td>60.0</td>\n",
              "      <td>recent emigrant</td>\n",
              "      <td>laborer</td>\n",
              "      <td>m</td>\n",
              "      <td>Charles Riley afed 10 days</td>\n",
              "    </tr>\n",
              "    <tr>\n",
              "      <th>3</th>\n",
              "      <td>1847-04-08</td>\n",
              "      <td>Lawrence</td>\n",
              "      <td>Feeney</td>\n",
              "      <td>32.0</td>\n",
              "      <td>recent emigrant</td>\n",
              "      <td>laborer</td>\n",
              "      <td>m</td>\n",
              "      <td>Child</td>\n",
              "    </tr>\n",
              "    <tr>\n",
              "      <th>4</th>\n",
              "      <td>1847-04-13</td>\n",
              "      <td>Henry</td>\n",
              "      <td>Joyce</td>\n",
              "      <td>21.0</td>\n",
              "      <td>recent emigrant</td>\n",
              "      <td>NaN</td>\n",
              "      <td>m</td>\n",
              "      <td>Child 1 mo</td>\n",
              "    </tr>\n",
              "    <tr>\n",
              "      <th>...</th>\n",
              "      <td>...</td>\n",
              "      <td>...</td>\n",
              "      <td>...</td>\n",
              "      <td>...</td>\n",
              "      <td>...</td>\n",
              "      <td>...</td>\n",
              "      <td>...</td>\n",
              "      <td>...</td>\n",
              "    </tr>\n",
              "    <tr>\n",
              "      <th>9579</th>\n",
              "      <td>1847-06-17</td>\n",
              "      <td>Mary</td>\n",
              "      <td>Smith</td>\n",
              "      <td>47.0</td>\n",
              "      <td>NaN</td>\n",
              "      <td>NaN</td>\n",
              "      <td>w</td>\n",
              "      <td>NaN</td>\n",
              "    </tr>\n",
              "    <tr>\n",
              "      <th>9580</th>\n",
              "      <td>1847-06-22</td>\n",
              "      <td>Francis</td>\n",
              "      <td>Riley</td>\n",
              "      <td>29.0</td>\n",
              "      <td>lame</td>\n",
              "      <td>superintendent</td>\n",
              "      <td>m</td>\n",
              "      <td>NaN</td>\n",
              "    </tr>\n",
              "    <tr>\n",
              "      <th>9581</th>\n",
              "      <td>1847-07-02</td>\n",
              "      <td>Martin</td>\n",
              "      <td>Dunn</td>\n",
              "      <td>4.0</td>\n",
              "      <td>NaN</td>\n",
              "      <td>NaN</td>\n",
              "      <td>m</td>\n",
              "      <td>NaN</td>\n",
              "    </tr>\n",
              "    <tr>\n",
              "      <th>9582</th>\n",
              "      <td>1847-07-08</td>\n",
              "      <td>Elizabeth</td>\n",
              "      <td>Post</td>\n",
              "      <td>32.0</td>\n",
              "      <td>NaN</td>\n",
              "      <td>NaN</td>\n",
              "      <td>w</td>\n",
              "      <td>NaN</td>\n",
              "    </tr>\n",
              "    <tr>\n",
              "      <th>9583</th>\n",
              "      <td>1847-04-28</td>\n",
              "      <td>Bridget</td>\n",
              "      <td>Ryan</td>\n",
              "      <td>28.0</td>\n",
              "      <td>destitution</td>\n",
              "      <td>spinster</td>\n",
              "      <td>w</td>\n",
              "      <td>NaN</td>\n",
              "    </tr>\n",
              "  </tbody>\n",
              "</table>\n",
              "<p>9584 rows × 8 columns</p>\n",
              "</div>\n",
              "    <div class=\"colab-df-buttons\">\n",
              "\n",
              "  <div class=\"colab-df-container\">\n",
              "    <button class=\"colab-df-convert\" onclick=\"convertToInteractive('df-a22de31b-8ab3-4249-b17e-499d4e5e5e9c')\"\n",
              "            title=\"Convert this dataframe to an interactive table.\"\n",
              "            style=\"display:none;\">\n",
              "\n",
              "  <svg xmlns=\"http://www.w3.org/2000/svg\" height=\"24px\" viewBox=\"0 -960 960 960\">\n",
              "    <path d=\"M120-120v-720h720v720H120Zm60-500h600v-160H180v160Zm220 220h160v-160H400v160Zm0 220h160v-160H400v160ZM180-400h160v-160H180v160Zm440 0h160v-160H620v160ZM180-180h160v-160H180v160Zm440 0h160v-160H620v160Z\"/>\n",
              "  </svg>\n",
              "    </button>\n",
              "\n",
              "  <style>\n",
              "    .colab-df-container {\n",
              "      display:flex;\n",
              "      gap: 12px;\n",
              "    }\n",
              "\n",
              "    .colab-df-convert {\n",
              "      background-color: #E8F0FE;\n",
              "      border: none;\n",
              "      border-radius: 50%;\n",
              "      cursor: pointer;\n",
              "      display: none;\n",
              "      fill: #1967D2;\n",
              "      height: 32px;\n",
              "      padding: 0 0 0 0;\n",
              "      width: 32px;\n",
              "    }\n",
              "\n",
              "    .colab-df-convert:hover {\n",
              "      background-color: #E2EBFA;\n",
              "      box-shadow: 0px 1px 2px rgba(60, 64, 67, 0.3), 0px 1px 3px 1px rgba(60, 64, 67, 0.15);\n",
              "      fill: #174EA6;\n",
              "    }\n",
              "\n",
              "    .colab-df-buttons div {\n",
              "      margin-bottom: 4px;\n",
              "    }\n",
              "\n",
              "    [theme=dark] .colab-df-convert {\n",
              "      background-color: #3B4455;\n",
              "      fill: #D2E3FC;\n",
              "    }\n",
              "\n",
              "    [theme=dark] .colab-df-convert:hover {\n",
              "      background-color: #434B5C;\n",
              "      box-shadow: 0px 1px 3px 1px rgba(0, 0, 0, 0.15);\n",
              "      filter: drop-shadow(0px 1px 2px rgba(0, 0, 0, 0.3));\n",
              "      fill: #FFFFFF;\n",
              "    }\n",
              "  </style>\n",
              "\n",
              "    <script>\n",
              "      const buttonEl =\n",
              "        document.querySelector('#df-a22de31b-8ab3-4249-b17e-499d4e5e5e9c button.colab-df-convert');\n",
              "      buttonEl.style.display =\n",
              "        google.colab.kernel.accessAllowed ? 'block' : 'none';\n",
              "\n",
              "      async function convertToInteractive(key) {\n",
              "        const element = document.querySelector('#df-a22de31b-8ab3-4249-b17e-499d4e5e5e9c');\n",
              "        const dataTable =\n",
              "          await google.colab.kernel.invokeFunction('convertToInteractive',\n",
              "                                                    [key], {});\n",
              "        if (!dataTable) return;\n",
              "\n",
              "        const docLinkHtml = 'Like what you see? Visit the ' +\n",
              "          '<a target=\"_blank\" href=https://colab.research.google.com/notebooks/data_table.ipynb>data table notebook</a>'\n",
              "          + ' to learn more about interactive tables.';\n",
              "        element.innerHTML = '';\n",
              "        dataTable['output_type'] = 'display_data';\n",
              "        await google.colab.output.renderOutput(dataTable, element);\n",
              "        const docLink = document.createElement('div');\n",
              "        docLink.innerHTML = docLinkHtml;\n",
              "        element.appendChild(docLink);\n",
              "      }\n",
              "    </script>\n",
              "  </div>\n",
              "\n",
              "\n",
              "<div id=\"df-4d643571-4d62-4f89-ac80-1769a15fdbad\">\n",
              "  <button class=\"colab-df-quickchart\" onclick=\"quickchart('df-4d643571-4d62-4f89-ac80-1769a15fdbad')\"\n",
              "            title=\"Suggest charts\"\n",
              "            style=\"display:none;\">\n",
              "\n",
              "<svg xmlns=\"http://www.w3.org/2000/svg\" height=\"24px\"viewBox=\"0 0 24 24\"\n",
              "     width=\"24px\">\n",
              "    <g>\n",
              "        <path d=\"M19 3H5c-1.1 0-2 .9-2 2v14c0 1.1.9 2 2 2h14c1.1 0 2-.9 2-2V5c0-1.1-.9-2-2-2zM9 17H7v-7h2v7zm4 0h-2V7h2v10zm4 0h-2v-4h2v4z\"/>\n",
              "    </g>\n",
              "</svg>\n",
              "  </button>\n",
              "\n",
              "<style>\n",
              "  .colab-df-quickchart {\n",
              "      --bg-color: #E8F0FE;\n",
              "      --fill-color: #1967D2;\n",
              "      --hover-bg-color: #E2EBFA;\n",
              "      --hover-fill-color: #174EA6;\n",
              "      --disabled-fill-color: #AAA;\n",
              "      --disabled-bg-color: #DDD;\n",
              "  }\n",
              "\n",
              "  [theme=dark] .colab-df-quickchart {\n",
              "      --bg-color: #3B4455;\n",
              "      --fill-color: #D2E3FC;\n",
              "      --hover-bg-color: #434B5C;\n",
              "      --hover-fill-color: #FFFFFF;\n",
              "      --disabled-bg-color: #3B4455;\n",
              "      --disabled-fill-color: #666;\n",
              "  }\n",
              "\n",
              "  .colab-df-quickchart {\n",
              "    background-color: var(--bg-color);\n",
              "    border: none;\n",
              "    border-radius: 50%;\n",
              "    cursor: pointer;\n",
              "    display: none;\n",
              "    fill: var(--fill-color);\n",
              "    height: 32px;\n",
              "    padding: 0;\n",
              "    width: 32px;\n",
              "  }\n",
              "\n",
              "  .colab-df-quickchart:hover {\n",
              "    background-color: var(--hover-bg-color);\n",
              "    box-shadow: 0 1px 2px rgba(60, 64, 67, 0.3), 0 1px 3px 1px rgba(60, 64, 67, 0.15);\n",
              "    fill: var(--button-hover-fill-color);\n",
              "  }\n",
              "\n",
              "  .colab-df-quickchart-complete:disabled,\n",
              "  .colab-df-quickchart-complete:disabled:hover {\n",
              "    background-color: var(--disabled-bg-color);\n",
              "    fill: var(--disabled-fill-color);\n",
              "    box-shadow: none;\n",
              "  }\n",
              "\n",
              "  .colab-df-spinner {\n",
              "    border: 2px solid var(--fill-color);\n",
              "    border-color: transparent;\n",
              "    border-bottom-color: var(--fill-color);\n",
              "    animation:\n",
              "      spin 1s steps(1) infinite;\n",
              "  }\n",
              "\n",
              "  @keyframes spin {\n",
              "    0% {\n",
              "      border-color: transparent;\n",
              "      border-bottom-color: var(--fill-color);\n",
              "      border-left-color: var(--fill-color);\n",
              "    }\n",
              "    20% {\n",
              "      border-color: transparent;\n",
              "      border-left-color: var(--fill-color);\n",
              "      border-top-color: var(--fill-color);\n",
              "    }\n",
              "    30% {\n",
              "      border-color: transparent;\n",
              "      border-left-color: var(--fill-color);\n",
              "      border-top-color: var(--fill-color);\n",
              "      border-right-color: var(--fill-color);\n",
              "    }\n",
              "    40% {\n",
              "      border-color: transparent;\n",
              "      border-right-color: var(--fill-color);\n",
              "      border-top-color: var(--fill-color);\n",
              "    }\n",
              "    60% {\n",
              "      border-color: transparent;\n",
              "      border-right-color: var(--fill-color);\n",
              "    }\n",
              "    80% {\n",
              "      border-color: transparent;\n",
              "      border-right-color: var(--fill-color);\n",
              "      border-bottom-color: var(--fill-color);\n",
              "    }\n",
              "    90% {\n",
              "      border-color: transparent;\n",
              "      border-bottom-color: var(--fill-color);\n",
              "    }\n",
              "  }\n",
              "</style>\n",
              "\n",
              "  <script>\n",
              "    async function quickchart(key) {\n",
              "      const quickchartButtonEl =\n",
              "        document.querySelector('#' + key + ' button');\n",
              "      quickchartButtonEl.disabled = true;  // To prevent multiple clicks.\n",
              "      quickchartButtonEl.classList.add('colab-df-spinner');\n",
              "      try {\n",
              "        const charts = await google.colab.kernel.invokeFunction(\n",
              "            'suggestCharts', [key], {});\n",
              "      } catch (error) {\n",
              "        console.error('Error during call to suggestCharts:', error);\n",
              "      }\n",
              "      quickchartButtonEl.classList.remove('colab-df-spinner');\n",
              "      quickchartButtonEl.classList.add('colab-df-quickchart-complete');\n",
              "    }\n",
              "    (() => {\n",
              "      let quickchartButtonEl =\n",
              "        document.querySelector('#df-4d643571-4d62-4f89-ac80-1769a15fdbad button');\n",
              "      quickchartButtonEl.style.display =\n",
              "        google.colab.kernel.accessAllowed ? 'block' : 'none';\n",
              "    })();\n",
              "  </script>\n",
              "</div>\n",
              "\n",
              "    </div>\n",
              "  </div>\n"
            ],
            "application/vnd.google.colaboratory.intrinsic+json": {
              "type": "dataframe",
              "summary": "{\n  \"name\": \"pandas\",\n  \"rows\": 9584,\n  \"fields\": [\n    {\n      \"column\": \"date_in\",\n      \"properties\": {\n        \"dtype\": \"object\",\n        \"num_unique_values\": 653,\n        \"samples\": [\n          \"1847-09-17\",\n          \"1846-03-20\",\n          \"1847-08-23\"\n        ],\n        \"semantic_type\": \"\",\n        \"description\": \"\"\n      }\n    },\n    {\n      \"column\": \"first_name\",\n      \"properties\": {\n        \"dtype\": \"category\",\n        \"num_unique_values\": 523,\n        \"samples\": [\n          \"Higgins\",\n          \"Margarer\",\n          \"Daniel\"\n        ],\n        \"semantic_type\": \"\",\n        \"description\": \"\"\n      }\n    },\n    {\n      \"column\": \"last_name\",\n      \"properties\": {\n        \"dtype\": \"category\",\n        \"num_unique_values\": 3142,\n        \"samples\": [\n          \"Mannon\",\n          \"Willson\",\n          \"Jeffert\"\n        ],\n        \"semantic_type\": \"\",\n        \"description\": \"\"\n      }\n    },\n    {\n      \"column\": \"age\",\n      \"properties\": {\n        \"dtype\": \"number\",\n        \"std\": 14.179607864152304,\n        \"min\": 0.08,\n        \"max\": 97.0,\n        \"num_unique_values\": 105,\n        \"samples\": [\n          55.0,\n          0.67,\n          52.0\n        ],\n        \"semantic_type\": \"\",\n        \"description\": \"\"\n      }\n    },\n    {\n      \"column\": \"disease\",\n      \"properties\": {\n        \"dtype\": \"category\",\n        \"num_unique_values\": 75,\n        \"samples\": [\n          \"sickness\",\n          \"paralysis\",\n          \"sore\"\n        ],\n        \"semantic_type\": \"\",\n        \"description\": \"\"\n      }\n    },\n    {\n      \"column\": \"profession\",\n      \"properties\": {\n        \"dtype\": \"category\",\n        \"num_unique_values\": 172,\n        \"samples\": [\n          \"courier\",\n          \"joiner\",\n          \"surveyor\"\n        ],\n        \"semantic_type\": \"\",\n        \"description\": \"\"\n      }\n    },\n    {\n      \"column\": \"gender\",\n      \"properties\": {\n        \"dtype\": \"category\",\n        \"num_unique_values\": 5,\n        \"samples\": [\n          \"m\",\n          \"g\",\n          \"?\"\n        ],\n        \"semantic_type\": \"\",\n        \"description\": \"\"\n      }\n    },\n    {\n      \"column\": \"children\",\n      \"properties\": {\n        \"dtype\": \"category\",\n        \"num_unique_values\": 36,\n        \"samples\": [\n          \"Margaret Kiernan 3 months (YJ)\",\n          \"James Crawford aged 2\",\n          \"Son Walter 4 mo\"\n        ],\n        \"semantic_type\": \"\",\n        \"description\": \"\"\n      }\n    }\n  ]\n}"
            }
          },
          "metadata": {},
          "execution_count": 2
        }
      ],
      "source": [
        "import pandas\n",
        "pandas.read_csv(\"/content/drive/MyDrive/colab_notebooks/Data/bellevue_almshouse_modified.csv\")"
      ]
    },
    {
      "cell_type": "markdown",
      "metadata": {
        "id": "Cwa83hoVvWsb"
      },
      "source": [
        "___"
      ]
    },
    {
      "cell_type": "markdown",
      "metadata": {
        "id": "El7I00h8vWsc"
      },
      "source": [
        "## Lists"
      ]
    },
    {
      "cell_type": "markdown",
      "metadata": {
        "id": "9KCW_pjGvWsc"
      },
      "source": [
        "Let's use individual variables to represent some of the demographic information about the 19th century Irish immigrants featured in the [Bellevue Almshouse data](https://docs.google.com/spreadsheets/d/1uf8uaqicknrn0a6STWrVfVMScQQMtzYf5I_QyhB9r7I/edit##gid=2057113261), such as names."
      ]
    },
    {
      "cell_type": "markdown",
      "metadata": {
        "id": "JWLIImOyvWsc"
      },
      "source": [
        "One of the most common Python data collections is a *list*. By using a list, we can put the names of the people featured in the dataset into a single collection.\n",
        "\n",
        "#### Example:"
      ]
    },
    {
      "cell_type": "code",
      "execution_count": null,
      "metadata": {
        "id": "vKJHeGq2vWsc"
      },
      "outputs": [],
      "source": [
        "names = ['Mary Gallagher', 'John Sanin(?)', 'Anthony Clark', 'Margaret Farrell']"
      ]
    },
    {
      "cell_type": "code",
      "execution_count": null,
      "metadata": {
        "id": "twNEbpaRvWsc",
        "outputId": "43c096c8-8abe-4e9f-a417-df276cd4ffea"
      },
      "outputs": [
        {
          "data": {
            "text/plain": [
              "list"
            ]
          },
          "execution_count": 8,
          "metadata": {},
          "output_type": "execute_result"
        }
      ],
      "source": [
        "type(names)"
      ]
    },
    {
      "cell_type": "markdown",
      "metadata": {
        "id": "n-XCjtSVvWsd"
      },
      "source": [
        "A list is always enclosed by square brackets `[]`, accepts items in a row separated by commas (`,`), and can contain any combination of Python data types.\n",
        "\n",
        "#### Example:"
      ]
    },
    {
      "cell_type": "code",
      "execution_count": null,
      "metadata": {
        "id": "EbKFMlYGvWsd"
      },
      "outputs": [],
      "source": [
        "ages = [28, 19, 60, 30]"
      ]
    },
    {
      "cell_type": "code",
      "execution_count": null,
      "metadata": {
        "id": "96QMAjiyvWsd",
        "outputId": "564fc514-8c2e-44f1-e92e-ecd801eb381c"
      },
      "outputs": [
        {
          "data": {
            "text/plain": [
              "list"
            ]
          },
          "execution_count": 10,
          "metadata": {},
          "output_type": "execute_result"
        }
      ],
      "source": [
        "type(ages)"
      ]
    },
    {
      "cell_type": "markdown",
      "metadata": {
        "id": "oFDgccK6vWsd"
      },
      "source": [
        "### Index"
      ]
    },
    {
      "cell_type": "markdown",
      "metadata": {
        "id": "v8xKItXOvWsd"
      },
      "source": [
        "You can index a list like you would index a string.\n",
        "\n",
        "#### Examples:"
      ]
    },
    {
      "cell_type": "code",
      "execution_count": null,
      "metadata": {
        "id": "FIH-nlxsvWsd"
      },
      "outputs": [],
      "source": [
        "names = ['Mary Gallagher', 'John Sanin(?)', 'Anthony Clark', 'Margaret Farrell']"
      ]
    },
    {
      "cell_type": "markdown",
      "metadata": {
        "id": "PG1FS8u1vWsd"
      },
      "source": [
        "For example, if we wanted to pull out the first item in our `names` list, we could put square brackets and our desired index number immediately after the list. Just like with strings, the Python index begins with 0."
      ]
    },
    {
      "cell_type": "code",
      "execution_count": null,
      "metadata": {
        "id": "mgpSBy1YvWsd",
        "outputId": "be44e281-2e82-4c8a-9846-360594927bdb"
      },
      "outputs": [
        {
          "data": {
            "text/plain": [
              "'Mary Gallagher'"
            ]
          },
          "execution_count": 11,
          "metadata": {},
          "output_type": "execute_result"
        }
      ],
      "source": [
        "names[0]"
      ]
    },
    {
      "cell_type": "code",
      "execution_count": null,
      "metadata": {
        "id": "eDCkFLr-vWsd",
        "outputId": "50059373-963c-4877-9d12-578c43515bce"
      },
      "outputs": [
        {
          "data": {
            "text/plain": [
              "'Margaret Farrell'"
            ]
          },
          "execution_count": 12,
          "metadata": {},
          "output_type": "execute_result"
        }
      ],
      "source": [
        "names[3]"
      ]
    },
    {
      "cell_type": "markdown",
      "metadata": {
        "id": "7VzUZEt0vWsd"
      },
      "source": [
        "You can also reverse index a list."
      ]
    },
    {
      "cell_type": "code",
      "execution_count": null,
      "metadata": {
        "tags": [
          "hide-output"
        ],
        "id": "hp3bAqBxvWsd",
        "outputId": "fbef54f2-36f9-4c7f-8bd9-1e47f2391f5d"
      },
      "outputs": [
        {
          "data": {
            "text/plain": [
              "'Margaret Farrell'"
            ]
          },
          "execution_count": 2,
          "metadata": {},
          "output_type": "execute_result"
        }
      ],
      "source": [
        "names[-1]"
      ]
    },
    {
      "cell_type": "markdown",
      "metadata": {
        "id": "g156nTv_vWsd"
      },
      "source": [
        "### Slice"
      ]
    },
    {
      "cell_type": "markdown",
      "metadata": {
        "id": "qwJgh961vWsd"
      },
      "source": [
        "You can also slice lists like you can slice a string.\n",
        "\n",
        "#### Examples:"
      ]
    },
    {
      "cell_type": "code",
      "execution_count": null,
      "metadata": {
        "id": "M5xoa-BQvWsd"
      },
      "outputs": [],
      "source": [
        "more_names = ['Unity', 'Catherine', 'Thomas', 'William', 'Patrick',\n",
        "              'Mary Anne', 'Morris', 'Michael', 'Ellen', 'James']"
      ]
    },
    {
      "cell_type": "markdown",
      "metadata": {
        "id": "Fbu-pqO3vWse"
      },
      "source": [
        "The full notation and options for slicing a list are as follows:"
      ]
    },
    {
      "cell_type": "code",
      "execution_count": null,
      "metadata": {
        "id": "59a39CyrvWse"
      },
      "outputs": [],
      "source": [
        "# your_list[start:stop:step]"
      ]
    },
    {
      "cell_type": "markdown",
      "metadata": {
        "id": "Nd_i5a9kvWse"
      },
      "source": [
        "By putting specific index numbers between these colons, you can slice the list at certain starting and stopping points, and you can also \"step\" by different amounts—that is, you can jump by a certain number through the list and only take every nth item in the list (e.g. every 3rd item)."
      ]
    },
    {
      "cell_type": "markdown",
      "metadata": {
        "id": "9wgGlJDYvWse"
      },
      "source": [
        "Slice list up to 2nd item:"
      ]
    },
    {
      "cell_type": "code",
      "source": [
        "more_names[:2]"
      ],
      "metadata": {
        "colab": {
          "base_uri": "https://localhost:8080/"
        },
        "id": "JMtvgR09wU4o",
        "outputId": "4d48a570-1c5e-4284-a0a7-47b88dccdd0b"
      },
      "execution_count": null,
      "outputs": [
        {
          "output_type": "execute_result",
          "data": {
            "text/plain": [
              "['Unity', 'Catherine']"
            ]
          },
          "metadata": {},
          "execution_count": 3
        }
      ]
    },
    {
      "cell_type": "markdown",
      "source": [
        "\n",
        "Slice from 2nd item to end of list:"
      ],
      "metadata": {
        "id": "tDitywChwZNX"
      }
    },
    {
      "cell_type": "code",
      "source": [
        "more_names[2:]"
      ],
      "metadata": {
        "colab": {
          "base_uri": "https://localhost:8080/"
        },
        "id": "UtDSiK7KwaHM",
        "outputId": "dd03c0a0-dbf0-4184-dc4f-a8403732889d"
      },
      "execution_count": null,
      "outputs": [
        {
          "output_type": "execute_result",
          "data": {
            "text/plain": [
              "['Thomas',\n",
              " 'William',\n",
              " 'Patrick',\n",
              " 'Mary Anne',\n",
              " 'Morris',\n",
              " 'Michael',\n",
              " 'Ellen',\n",
              " 'James']"
            ]
          },
          "metadata": {},
          "execution_count": 4
        }
      ]
    },
    {
      "cell_type": "markdown",
      "source": [
        "Slice from 0 to end of list, stepping by 3:"
      ],
      "metadata": {
        "id": "8PrBxRAqwZjz"
      }
    },
    {
      "cell_type": "code",
      "source": [
        "more_names[::3]"
      ],
      "metadata": {
        "colab": {
          "base_uri": "https://localhost:8080/"
        },
        "id": "g2iKaEyawYTu",
        "outputId": "4625b9c6-9bd2-413b-a678-0f1d56097c1f"
      },
      "execution_count": null,
      "outputs": [
        {
          "output_type": "execute_result",
          "data": {
            "text/plain": [
              "['Unity', 'William', 'Morris', 'James']"
            ]
          },
          "metadata": {},
          "execution_count": 5
        }
      ]
    },
    {
      "cell_type": "markdown",
      "metadata": {
        "id": "sEpMmhAQvWse"
      },
      "source": [
        "#### Start"
      ]
    },
    {
      "cell_type": "code",
      "execution_count": null,
      "metadata": {
        "id": "X8xsMOsCvWse"
      },
      "outputs": [],
      "source": [
        "more_names = ['Unity', 'Catherine', 'Thomas', 'William', 'Patrick',\n",
        "              'Mary Anne', 'Morris', 'Michael', 'Ellen', 'James']"
      ]
    },
    {
      "cell_type": "markdown",
      "metadata": {
        "id": "X_IfNwG1vWse"
      },
      "source": [
        "Here's how we would slice the list starting from the 2nd item of the list until the end."
      ]
    },
    {
      "cell_type": "code",
      "execution_count": null,
      "metadata": {
        "id": "tFCiq1nKvWse",
        "outputId": "7c8e3e70-3d44-4049-99a2-0755a428dec1"
      },
      "outputs": [
        {
          "data": {
            "text/plain": [
              "['Thomas',\n",
              " 'William',\n",
              " 'Patrick',\n",
              " 'Mary Anne',\n",
              " 'Morris',\n",
              " 'Michael',\n",
              " 'Ellen',\n",
              " 'James']"
            ]
          },
          "execution_count": 35,
          "metadata": {},
          "output_type": "execute_result"
        }
      ],
      "source": [
        "more_names[2:]"
      ]
    },
    {
      "cell_type": "markdown",
      "metadata": {
        "id": "zoy9iOfZvWse"
      },
      "source": [
        "You might imagine the above as:"
      ]
    },
    {
      "cell_type": "code",
      "execution_count": null,
      "metadata": {
        "id": "fzzbdcFMvWse"
      },
      "outputs": [],
      "source": [
        "more_names[start=2:stop=none:step=none]"
      ]
    },
    {
      "cell_type": "markdown",
      "metadata": {
        "id": "Si5INrjOvWse"
      },
      "source": [
        "Remember that the Python index starts with `0` so the 2nd item is really the 3rd item."
      ]
    },
    {
      "cell_type": "code",
      "execution_count": null,
      "metadata": {
        "id": "GR9vLHRUvWsf",
        "outputId": "102a5672-69d4-436f-acc9-6ecc951ffc2e"
      },
      "outputs": [
        {
          "data": {
            "text/plain": [
              "'Thomas'"
            ]
          },
          "execution_count": 23,
          "metadata": {},
          "output_type": "execute_result"
        }
      ],
      "source": [
        "more_names[2]"
      ]
    },
    {
      "cell_type": "markdown",
      "metadata": {
        "id": "tDfYRpHUvWsf"
      },
      "source": [
        "#### Reverse"
      ]
    },
    {
      "cell_type": "code",
      "execution_count": null,
      "metadata": {
        "id": "GQi9UhPMvWsf"
      },
      "outputs": [],
      "source": [
        "more_names = ['Unity', 'Catherine', 'Thomas', 'William', 'Patrick',\n",
        "              'Mary Anne', 'Morris', 'Michael', 'Ellen', 'James']"
      ]
    },
    {
      "cell_type": "markdown",
      "metadata": {
        "id": "WtElGpjNvWsf"
      },
      "source": [
        "Because we can reverse index a list from the end to the beginning, we can also slice a list by starting from the 2nd to last item until the end."
      ]
    },
    {
      "cell_type": "code",
      "execution_count": null,
      "metadata": {
        "id": "5I5CR0fdvWsf",
        "outputId": "47a43d1e-f451-4123-ee26-bc8b211645ca"
      },
      "outputs": [
        {
          "data": {
            "text/plain": [
              "['Ellen', 'James']"
            ]
          },
          "execution_count": 40,
          "metadata": {},
          "output_type": "execute_result"
        }
      ],
      "source": [
        "more_names[-2:]"
      ]
    },
    {
      "cell_type": "markdown",
      "metadata": {
        "id": "B7as3abevWsf"
      },
      "source": [
        "You might imagine the above as:"
      ]
    },
    {
      "cell_type": "code",
      "execution_count": null,
      "metadata": {
        "id": "etssf3CrvWsf"
      },
      "outputs": [],
      "source": [
        "more_names[start=-2:stop=none:step=none]"
      ]
    },
    {
      "cell_type": "markdown",
      "metadata": {
        "id": "8n8h0ar3vWsf"
      },
      "source": [
        "#### Stop"
      ]
    },
    {
      "cell_type": "code",
      "execution_count": null,
      "metadata": {
        "id": "x1qC6n8jvWsf"
      },
      "outputs": [],
      "source": [
        "more_names = ['Unity', 'Catherine', 'Thomas', 'William', 'Patrick',\n",
        "              'Mary Anne', 'Morris', 'Michael', 'Ellen', 'James']"
      ]
    },
    {
      "cell_type": "markdown",
      "metadata": {
        "id": "kP76F3xvvWsg"
      },
      "source": [
        "Here's how we would slice the list starting from 0 and ending at the 2nd item in the list."
      ]
    },
    {
      "cell_type": "code",
      "execution_count": null,
      "metadata": {
        "id": "5SVRE-k2vWsg",
        "outputId": "cd817d70-0730-4e14-d478-9b4aa15ab844"
      },
      "outputs": [
        {
          "data": {
            "text/plain": [
              "['Unity', 'Catherine']"
            ]
          },
          "execution_count": 38,
          "metadata": {},
          "output_type": "execute_result"
        }
      ],
      "source": [
        "more_names[:2]"
      ]
    },
    {
      "cell_type": "markdown",
      "metadata": {
        "id": "JxQ4WKFRvWsg"
      },
      "source": [
        "You might imagine the above as:"
      ]
    },
    {
      "cell_type": "code",
      "execution_count": null,
      "metadata": {
        "id": "bSRu7q_UvWsg"
      },
      "outputs": [],
      "source": [
        "more_names[start=0:stop=2:step=none]"
      ]
    },
    {
      "cell_type": "markdown",
      "metadata": {
        "id": "c-3nWSUevWsg"
      },
      "source": [
        "#### Step"
      ]
    },
    {
      "cell_type": "markdown",
      "metadata": {
        "id": "LiAQZ7xivWsg"
      },
      "source": [
        "You can also index by a certain number of steps.\n",
        "\n",
        "Here's how we could index every third item in the list."
      ]
    },
    {
      "cell_type": "code",
      "execution_count": null,
      "metadata": {
        "id": "_oomgOYtvWsg",
        "outputId": "12665b7b-7cbc-4836-c5e2-a9575dcc565a"
      },
      "outputs": [
        {
          "data": {
            "text/plain": [
              "['Unity', 'William', 'Morris', 'James']"
            ]
          },
          "execution_count": 34,
          "metadata": {},
          "output_type": "execute_result"
        }
      ],
      "source": [
        "more_names[::3]"
      ]
    },
    {
      "cell_type": "markdown",
      "metadata": {
        "id": "8RGH9DcdvWsg"
      },
      "source": [
        "You might imagine the above as:"
      ]
    },
    {
      "cell_type": "code",
      "execution_count": null,
      "metadata": {
        "id": "9K12QobJvWsg"
      },
      "outputs": [],
      "source": [
        "more_names[start=0:stop=0:step=3]"
      ]
    },
    {
      "cell_type": "markdown",
      "metadata": {
        "id": "CIXIxPyXvWsg"
      },
      "source": [
        "## List Methods"
      ]
    },
    {
      "cell_type": "markdown",
      "metadata": {
        "id": "HnNHxevavWsg"
      },
      "source": [
        "Lists also have a number of special methods that can be used with them, such as a method for adding items to a list."
      ]
    },
    {
      "cell_type": "markdown",
      "metadata": {
        "id": "UApW83fZvWsg"
      },
      "source": [
        "| **List Method** | **Explanation**                                                                                   |\n",
        "|-------------|---------------------------------------------------------------------------------------------------|\n",
        "| `list.append(another_item)`          | adds new item to end of list                                                                                |\n",
        "| `list.extend(another_list)`        | adds items from another_list to list                                                |\n",
        "| `list.remove(item)`        | removes first instance of item                                                       |\n",
        "| `list.sort(reverse=False)`       | sort the order of list                                                                                 |                                                     |\n",
        "| `list.reverse()`       | reverses order of list                                                                                 |                                                     |"
      ]
    },
    {
      "cell_type": "markdown",
      "metadata": {
        "id": "ECUpFNIDvWsg"
      },
      "source": [
        "### Add Items To List"
      ]
    },
    {
      "cell_type": "markdown",
      "metadata": {
        "id": "Dk2EwlZ6vWsg"
      },
      "source": [
        "| **List Method** | **Explanation**                                                                                   |\n",
        "|-------------|---------------------------------------------------------------------------------------------------|\n",
        "| `list.append(another_item)`          | adds new item to end of list                                                                   "
      ]
    },
    {
      "cell_type": "code",
      "execution_count": null,
      "metadata": {
        "id": "X1NVZRJSvWsg"
      },
      "outputs": [],
      "source": [
        "names = ['Mary Gallagher', 'John Sanin(?)', 'Anthony Clark', 'Margaret Farrell']"
      ]
    },
    {
      "cell_type": "code",
      "execution_count": null,
      "metadata": {
        "id": "BdY_UbOXvWsh"
      },
      "outputs": [],
      "source": [
        "names.append(\"Lawrence Feeney\")"
      ]
    },
    {
      "cell_type": "code",
      "execution_count": null,
      "metadata": {
        "id": "obZP1B2AvWsh",
        "outputId": "b6aec809-beaa-4ccf-b799-5e56d3303780"
      },
      "outputs": [
        {
          "data": {
            "text/plain": [
              "['Mary Gallagher',\n",
              " 'John Sanin(?)',\n",
              " 'Anthony Clark',\n",
              " 'Margaret Farrell',\n",
              " 'Lawrence Feeney']"
            ]
          },
          "execution_count": 15,
          "metadata": {},
          "output_type": "execute_result"
        }
      ],
      "source": [
        "names"
      ]
    },
    {
      "cell_type": "markdown",
      "metadata": {
        "id": "eCBtAkAjvWsh"
      },
      "source": [
        "### Sort List"
      ]
    },
    {
      "cell_type": "markdown",
      "metadata": {
        "id": "zRd2b0mSvWsh"
      },
      "source": [
        "| **List Method** | **Explanation**                                                                                   |\n",
        "|-------------|---------------------------------------------------------------------------------------------------|\n",
        "| `list.sort(reverse=False)`       | sort the order of list                                                                             "
      ]
    },
    {
      "cell_type": "code",
      "execution_count": null,
      "metadata": {
        "id": "QObRyo_pvWsh"
      },
      "outputs": [],
      "source": [
        "names.sort()"
      ]
    },
    {
      "cell_type": "code",
      "execution_count": null,
      "metadata": {
        "id": "XoqewVxkvWsh",
        "outputId": "b4457ff4-57c6-4b21-a144-115219769c6a"
      },
      "outputs": [
        {
          "data": {
            "text/plain": [
              "['Anthony Clark',\n",
              " 'John Sanin(?)',\n",
              " 'Lawrence Feeney',\n",
              " 'Margaret Farrell',\n",
              " 'Mary Gallagher']"
            ]
          },
          "execution_count": 17,
          "metadata": {},
          "output_type": "execute_result"
        }
      ],
      "source": [
        "names"
      ]
    },
    {
      "cell_type": "code",
      "execution_count": null,
      "metadata": {
        "id": "I4zT4k8nvWsh"
      },
      "outputs": [],
      "source": [
        "ages.sort()"
      ]
    },
    {
      "cell_type": "code",
      "execution_count": null,
      "metadata": {
        "id": "GchLiVOYvWsh",
        "outputId": "bbb19cc0-e1d1-46ed-e48a-6678a55e5094"
      },
      "outputs": [
        {
          "data": {
            "text/plain": [
              "[19, 28, 30, 60]"
            ]
          },
          "execution_count": 21,
          "metadata": {},
          "output_type": "execute_result"
        }
      ],
      "source": [
        "ages"
      ]
    },
    {
      "cell_type": "code",
      "execution_count": null,
      "metadata": {
        "id": "XBnwS30cvWsh"
      },
      "outputs": [],
      "source": [
        "ages.sort(reverse=True)"
      ]
    },
    {
      "cell_type": "code",
      "execution_count": null,
      "metadata": {
        "id": "zxMrrzkfvWsh",
        "outputId": "fc34349c-ea5c-4400-aeca-a20e05b384c4"
      },
      "outputs": [
        {
          "data": {
            "text/plain": [
              "[60, 30, 28, 19]"
            ]
          },
          "execution_count": 23,
          "metadata": {},
          "output_type": "execute_result"
        }
      ],
      "source": [
        "ages"
      ]
    },
    {
      "cell_type": "markdown",
      "metadata": {
        "id": "7ew0ylNrvWsh"
      },
      "source": [
        "### Extend List With Another List"
      ]
    },
    {
      "cell_type": "markdown",
      "metadata": {
        "id": "bmrGWPFyvWsh"
      },
      "source": [
        "| **List Method** | **Explanation**                                                                                   |\n",
        "|-------------|---------------------------------------------------------------------------------------------------|\n",
        "| `list.extend(another_list)`        | adds items from another_list to list                                                                                 "
      ]
    },
    {
      "cell_type": "code",
      "execution_count": null,
      "metadata": {
        "id": "XGORSrYHvWsh"
      },
      "outputs": [],
      "source": [
        "names.extend(ages)"
      ]
    },
    {
      "cell_type": "code",
      "execution_count": null,
      "metadata": {
        "id": "MvlSoD97vWsh",
        "outputId": "67743ed5-b6d8-4cfa-837c-ad2e42687a7e"
      },
      "outputs": [
        {
          "data": {
            "text/plain": [
              "['Anthony Clark',\n",
              " 'John Sanin(?)',\n",
              " 'Lawrence Feeney',\n",
              " 'Margaret Farrell',\n",
              " 'Mary Gallagher',\n",
              " 60,\n",
              " 30,\n",
              " 28,\n",
              " 19]"
            ]
          },
          "execution_count": 25,
          "metadata": {},
          "output_type": "execute_result"
        }
      ],
      "source": [
        "names"
      ]
    },
    {
      "cell_type": "markdown",
      "metadata": {
        "id": "5vA4pyBtvWsi"
      },
      "source": [
        "## For Loops"
      ]
    },
    {
      "cell_type": "markdown",
      "metadata": {
        "id": "FF5ocVtYvWsi"
      },
      "source": [
        "One of the best ways to work with a list is with `for` loops. This is a way of considering each item in the list or \"iterating\" through the list."
      ]
    },
    {
      "cell_type": "code",
      "execution_count": null,
      "metadata": {
        "id": "IaxfZhe2vWsi"
      },
      "outputs": [],
      "source": [
        "names = ['Mary Gallagher', 'John Sanin(?)', 'Anthony Clark', 'Margaret Farrell']"
      ]
    },
    {
      "cell_type": "code",
      "execution_count": null,
      "metadata": {
        "id": "3epZpB4lvWsi",
        "outputId": "8e936b2a-ea72-4937-d904-2bcec4610d76",
        "colab": {
          "base_uri": "https://localhost:8080/",
          "height": 105
        }
      },
      "outputs": [
        {
          "output_type": "error",
          "ename": "SyntaxError",
          "evalue": "cannot assign to literal (<ipython-input-3-a0b81615be2a>, line 1)",
          "traceback": [
            "\u001b[0;36m  File \u001b[0;32m\"<ipython-input-3-a0b81615be2a>\"\u001b[0;36m, line \u001b[0;32m1\u001b[0m\n\u001b[0;31m    for \"x\" in names:\u001b[0m\n\u001b[0m        ^\u001b[0m\n\u001b[0;31mSyntaxError\u001b[0m\u001b[0;31m:\u001b[0m cannot assign to literal\n"
          ]
        }
      ],
      "source": [
        "for \"x\" in names:\n",
        "    print(\"x\")"
      ]
    },
    {
      "cell_type": "markdown",
      "metadata": {
        "id": "XkDLenTrvWsi"
      },
      "source": [
        "A basic basic `for` loop will consist of two lines:\n",
        "\n",
        "- On the first line, you type the English word `for`, a new variable name for each item in the list, the English word `in`, the name of the list, and a colon (`:`)\n",
        "\n",
        "- On the second line, you indent and write an instruction or “statement” to be completed for each item in the list"
      ]
    },
    {
      "cell_type": "code",
      "execution_count": null,
      "metadata": {
        "id": "ISePFs72vWsi",
        "outputId": "728efbaa-e596-4ed2-a2ab-f81ef8194986"
      },
      "outputs": [
        {
          "name": "stdout",
          "output_type": "stream",
          "text": [
            "Person's name is Mary Gallagher\n",
            "Person's name is John Sanin(?)\n",
            "Person's name is Anthony Clark\n",
            "Person's name is Margaret Farrell\n"
          ]
        }
      ],
      "source": [
        "for name in names:\n",
        "    print(f\"Person's name is {name}\")"
      ]
    },
    {
      "cell_type": "code",
      "execution_count": null,
      "metadata": {
        "id": "zBN6wVItvWsi",
        "outputId": "9d532790-a8bb-4b1b-a673-24357367134c"
      },
      "outputs": [
        {
          "name": "stdout",
          "output_type": "stream",
          "text": [
            "Person's name is Mary Gallagher\n",
            "Person's name is John Sanin(?)\n",
            "Person's name is Anthony Clark\n",
            "Person's name is Margaret Farrell\n"
          ]
        }
      ],
      "source": [
        "for x in names:\n",
        "    print(f\"Person's name is {x}\")"
      ]
    },
    {
      "cell_type": "code",
      "execution_count": null,
      "metadata": {
        "id": "yYZQmtTWvWsi"
      },
      "outputs": [],
      "source": [
        "ages = [28, 19, 60, 30]"
      ]
    },
    {
      "cell_type": "code",
      "execution_count": null,
      "metadata": {
        "id": "AT4YAOlFvWsi",
        "outputId": "2d37fa63-c2c4-4d09-e856-121c43a818e5"
      },
      "outputs": [
        {
          "name": "stdout",
          "output_type": "stream",
          "text": [
            "Person is more than 30 years old\n",
            "Person is more than 30 years old\n",
            "Person is less than 30 years old\n",
            "Person is more than 30 years old\n"
          ]
        }
      ],
      "source": [
        "for age in ages:\n",
        "    if age > 30:\n",
        "        print(\"Person is less than 30 years old\")\n",
        "    else:\n",
        "        print(\"Person is more than 30 years old\")"
      ]
    },
    {
      "cell_type": "code",
      "execution_count": null,
      "metadata": {
        "id": "QqmDOuiXvWsi",
        "outputId": "4635898c-3a31-4e83-fc03-77ccdbf5f158"
      },
      "outputs": [
        {
          "name": "stdout",
          "output_type": "stream",
          "text": [
            "56\n",
            "38\n",
            "120\n",
            "60\n"
          ]
        }
      ],
      "source": [
        "for age in ages:\n",
        "    print(age * 2)"
      ]
    },
    {
      "cell_type": "markdown",
      "metadata": {
        "id": "X1-44FbEvWsi"
      },
      "source": [
        "## Exercises"
      ]
    },
    {
      "cell_type": "code",
      "execution_count": null,
      "metadata": {
        "id": "KZ3oKETovWsi"
      },
      "outputs": [],
      "source": [
        "professions = ['married', 'laborer', 'widow', 'laborer', ]\n",
        "child_status = ['Child Alana 10 days', 'Catherine 2 mos', '', 'Charles Riley afed 10 days' ]\n",
        "gender = ['f', 'm', 'w', 'm']"
      ]
    },
    {
      "cell_type": "markdown",
      "metadata": {
        "id": "y_wvGjZfvWsi"
      },
      "source": [
        "### Exercise 1\n",
        "Extract the second item in the list `professions`.\n",
        "\n",
        "```{hint}\n",
        ":class: dropdown\n",
        "Remember that the Python index begins with 0!\n",
        "```"
      ]
    },
    {
      "cell_type": "code",
      "execution_count": null,
      "metadata": {
        "id": "kgb2RooLvWsi",
        "outputId": "9c58f7f5-fd95-44c8-85b3-b027b091a7b7"
      },
      "outputs": [
        {
          "data": {
            "text/plain": [
              "'laborer'"
            ]
          },
          "execution_count": 45,
          "metadata": {},
          "output_type": "execute_result"
        }
      ],
      "source": [
        "##Your Code Here"
      ]
    },
    {
      "cell_type": "markdown",
      "metadata": {
        "id": "lERE5BG1vWsi"
      },
      "source": [
        "### Exercise 2\n",
        "Add the item \"spinster\" to your `professions` list, then print the list."
      ]
    },
    {
      "cell_type": "code",
      "execution_count": null,
      "metadata": {
        "id": "cgyVpDAivWsj"
      },
      "outputs": [],
      "source": [
        "##Your Code Here"
      ]
    },
    {
      "cell_type": "code",
      "execution_count": null,
      "metadata": {
        "id": "F9zZIAoQvWsj",
        "outputId": "32200fbd-7484-482c-dbea-c77852279973"
      },
      "outputs": [
        {
          "data": {
            "text/plain": [
              "['married', 'laborer', 'widow', 'laborer', 'spinster']"
            ]
          },
          "execution_count": 27,
          "metadata": {},
          "output_type": "execute_result"
        }
      ],
      "source": [
        "##Your Code Here"
      ]
    },
    {
      "cell_type": "markdown",
      "metadata": {
        "id": "LIJMUQxXvWsj"
      },
      "source": [
        "### Exercise 3\n",
        "Make a `for` loop that considers each item in the `professions` list and prints \"Person's profession is ___\""
      ]
    },
    {
      "cell_type": "code",
      "execution_count": null,
      "metadata": {
        "id": "WghR0lOavWsj",
        "outputId": "8a414a28-470a-478f-f725-68563a70c00b"
      },
      "outputs": [
        {
          "name": "stdout",
          "output_type": "stream",
          "text": [
            "Person's profession is married\n",
            "Person's profession is laborer\n",
            "Person's profession is widow\n",
            "Person's profession is laborer\n",
            "Person's profession is spinster\n"
          ]
        }
      ],
      "source": [
        "##Your Code Here\n",
        "    ##Your Code Here"
      ]
    },
    {
      "cell_type": "markdown",
      "metadata": {
        "id": "ldww5YBovWsj"
      },
      "source": [
        "### Exercise 4\n",
        "Extract the fourth item in the `child_status` list."
      ]
    },
    {
      "cell_type": "code",
      "execution_count": null,
      "metadata": {
        "id": "ZUuw0T9pvWsj",
        "outputId": "5271a2c3-7bad-40b7-920c-4d58dbcc4227"
      },
      "outputs": [
        {
          "data": {
            "text/plain": [
              "'Charles Riley afed 10 days'"
            ]
          },
          "execution_count": 58,
          "metadata": {},
          "output_type": "execute_result"
        }
      ],
      "source": [
        "##Your Code Here"
      ]
    },
    {
      "cell_type": "markdown",
      "metadata": {
        "id": "YYw0_oNTvWsk"
      },
      "source": [
        "### Exercise 5\n",
        "Make a `for` loop that considers each item in the `child_status` list and prints \"Person has child\" if the person has a child and \"Person does not have child\" if not"
      ]
    },
    {
      "cell_type": "code",
      "execution_count": null,
      "metadata": {
        "id": "tXyYZwwPvWsk",
        "outputId": "a5418baa-2363-486b-ae22-bbc1ee869aa6"
      },
      "outputs": [
        {
          "name": "stdout",
          "output_type": "stream",
          "text": [
            "Person has child\n",
            "Person has child\n",
            "Person does not have child\n",
            "Person has child\n"
          ]
        }
      ],
      "source": [
        "##Your Code Here\n",
        "  ##Your Code Here\n",
        "       ##Your Code Here\n",
        "    ##Your Code Here\n",
        "        ##Your Code Here"
      ]
    },
    {
      "cell_type": "markdown",
      "metadata": {
        "id": "EFW7B0zPvWsk"
      },
      "source": [
        "### Exercise 6\n",
        "Add an item to the list `gender` called \"not known\""
      ]
    },
    {
      "cell_type": "code",
      "execution_count": null,
      "metadata": {
        "id": "4aP_e5y3vWsk"
      },
      "outputs": [],
      "source": [
        "##Your Code Here"
      ]
    },
    {
      "cell_type": "markdown",
      "metadata": {
        "id": "C7Nfhr4HvWsk"
      },
      "source": [
        "### Exercise 7\n",
        "Make a `for` loop that considers each item in the `gender` list and prints \"Person is male\" if the person is male, \"Person is female\" if the person is female, and \"Person's gender is not known\" if unknown"
      ]
    },
    {
      "cell_type": "code",
      "execution_count": null,
      "metadata": {
        "id": "9DcXXyKkvWsk",
        "outputId": "89608a59-09d4-4422-988c-924ed6d734a8"
      },
      "outputs": [
        {
          "name": "stdout",
          "output_type": "stream",
          "text": [
            "Person is female\n",
            "Person is male\n",
            "Person is male\n",
            "Person's gender is not known\n"
          ]
        }
      ],
      "source": [
        " ##Your Code Here\n",
        "     ##Your Code Here\n",
        "         ##Your Code Here\n",
        "     ##Your Code Here\n",
        "         ##Your Code Here\n",
        "     ##Your Code Here\n",
        "         ##Your Code Here"
      ]
    }
  ],
  "metadata": {
    "kernelspec": {
      "display_name": "Python 3",
      "language": "python",
      "name": "python3"
    },
    "language_info": {
      "codemirror_mode": {
        "name": "ipython",
        "version": 3
      },
      "file_extension": ".py",
      "mimetype": "text/x-python",
      "name": "python",
      "nbconvert_exporter": "python",
      "pygments_lexer": "ipython3",
      "version": "3.8.8"
    },
    "colab": {
      "provenance": []
    }
  },
  "nbformat": 4,
  "nbformat_minor": 0
}